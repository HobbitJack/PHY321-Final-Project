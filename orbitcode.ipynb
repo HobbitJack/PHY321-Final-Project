{
 "cells": [
  {
   "cell_type": "code",
   "execution_count": null,
   "id": "306511d9",
   "metadata": {
    "lines_to_next_cell": 2
   },
   "outputs": [],
   "source": [
    "# Import matplotlib and project code\n",
    "import matplotlib.pyplot\n",
    "\n",
    "import body_problem"
   ]
  },
  {
   "cell_type": "markdown",
   "id": "12df292c",
   "metadata": {
    "lines_to_next_cell": 0
   },
   "source": [
    "## Two Body Orbit"
   ]
  },
  {
   "cell_type": "code",
   "execution_count": null,
   "id": "3bc9300a",
   "metadata": {
    "lines_to_next_cell": 0
   },
   "outputs": [],
   "source": [
    "body_problem.n_body_problem(\"Sun\", \"Jupiter\")"
   ]
  },
  {
   "cell_type": "markdown",
   "id": "bfd26b64",
   "metadata": {},
   "source": [
    "## Three Body Orbit"
   ]
  },
  {
   "cell_type": "code",
   "execution_count": null,
   "id": "7d97e936",
   "metadata": {
    "lines_to_next_cell": 0
   },
   "outputs": [],
   "source": [
    "body_problem.n_body_problem(\"Sun\", \"Earth\", \"Jupiter\", show_plot=False)\n",
    "matplotlib.pyplot.title(\"Three Body Orbit\")\n",
    "matplotlib.pyplot.show()"
   ]
  },
  {
   "cell_type": "markdown",
   "id": "ed93c472",
   "metadata": {},
   "source": [
    "## Two body Orbit with 10X Mass Sun"
   ]
  },
  {
   "cell_type": "code",
   "execution_count": null,
   "id": "95f2f0db",
   "metadata": {},
   "outputs": [],
   "source": [
    "body_problem.n_body_problem(\"Sun_10X_Mass\", \"Jupiter\")"
   ]
  },
  {
   "cell_type": "markdown",
   "id": "702c2339",
   "metadata": {},
   "source": [
    "## Two Body Orbit with 100X Mass Jupiter"
   ]
  },
  {
   "cell_type": "code",
   "execution_count": null,
   "id": "03d295fa",
   "metadata": {},
   "outputs": [],
   "source": [
    "body_problem.n_body_problem(\"Sun\", \"Jupiter_100X_Mass\")"
   ]
  },
  {
   "cell_type": "markdown",
   "id": "bbe933ba",
   "metadata": {
    "lines_to_next_cell": 0
   },
   "source": [
    "## Three Body Orbit 1000X Earth Mass"
   ]
  },
  {
   "cell_type": "code",
   "execution_count": null,
   "id": "0058b37c",
   "metadata": {
    "lines_to_next_cell": 0
   },
   "outputs": [],
   "source": [
    "body_problem.n_body_problem(\"Sun\", \"Earth_1000X_Mass\", \"Jupiter\")"
   ]
  },
  {
   "cell_type": "markdown",
   "id": "564d4210",
   "metadata": {},
   "source": [
    "## Three Body Orbit 100 Jupiter Mass"
   ]
  },
  {
   "cell_type": "code",
   "execution_count": null,
   "id": "0fdd5cf7",
   "metadata": {},
   "outputs": [],
   "source": [
    "body_problem.n_body_problem(\"Sun\", \"Earth\", \"Jupiter_100X_Mass\")"
   ]
  },
  {
   "cell_type": "markdown",
   "id": "0bf99d2a",
   "metadata": {},
   "source": [
    "## Three Body Orbit 1000 Jupiter Mass"
   ]
  },
  {
   "cell_type": "code",
   "execution_count": null,
   "id": "ea2b5170",
   "metadata": {},
   "outputs": [],
   "source": [
    "body_problem.n_body_problem(\"Sun\", \"Earth\", \"Jupiter_1000X_Mass\")"
   ]
  }
 ],
 "metadata": {
  "kernelspec": {
   "display_name": "Python 3.11 (default)",
   "language": "python",
   "name": "python3"
  }
 },
 "nbformat": 4,
 "nbformat_minor": 5
}