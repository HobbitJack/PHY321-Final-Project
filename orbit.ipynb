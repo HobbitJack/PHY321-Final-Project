{
 "cells": [
  {
   "cell_type": "code",
   "execution_count": null,
   "id": "9915db1e-8a2d-4049-8cb8-7c332b1df134",
   "metadata": {},
   "outputs": [],
   "source": [
    "from two_body import orbit"
   ]
  },
  {
   "cell_type": "code",
   "execution_count": null,
   "id": "ca39c89f-cb1e-44f8-a1db-d261f3efec7b",
   "metadata": {},
   "outputs": [],
   "source": [
    "orbit()"
   ]
  },
  {
   "cell_type": "code",
   "execution_count": null,
   "id": "aa1d1bd1-a871-4968-90ed-a4202ce4f8da",
   "metadata": {},
   "outputs": [],
   "source": []
  }
 ],
 "metadata": {
  "kernelspec": {
   "display_name": "Python 3.11 (default)",
   "language": "python",
   "name": "python3"
  },
  "language_info": {
   "codemirror_mode": {
    "name": "ipython",
    "version": 3
   },
   "file_extension": ".py",
   "mimetype": "text/x-python",
   "name": "python",
   "nbconvert_exporter": "python",
   "pygments_lexer": "ipython3",
   "version": "3.11.9"
  }
 },
 "nbformat": 4,
 "nbformat_minor": 5
}
